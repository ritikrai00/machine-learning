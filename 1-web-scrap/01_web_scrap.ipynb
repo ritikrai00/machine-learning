{
 "cells": [
  {
   "cell_type": "code",
   "execution_count": 1,
   "metadata": {},
   "outputs": [],
   "source": [
    "import requests\n",
    "from bs4 import BeautifulSoup\n",
    "import pandas as pd"
   ]
  },
  {
   "cell_type": "code",
   "execution_count": 3,
   "metadata": {},
   "outputs": [
    {
     "data": {
      "text/plain": [
       "<Response [403]>"
      ]
     },
     "execution_count": 3,
     "metadata": {},
     "output_type": "execute_result"
    }
   ],
   "source": [
    "requests.get('https://www.ambitionbox.com/list-of-companies?page=1')"
   ]
  },
  {
   "cell_type": "code",
   "execution_count": 2,
   "metadata": {},
   "outputs": [],
   "source": [
    "headers={'User-Agent':'Mozilla/5.0 (Windows NT 6.3; Win 64 ; x64) Apple WeKit /537.36(KHTML , like Gecko) Chrome/80.0.3987.162 Safari/537.36',\"Accept\": 'text/html,application/xhtml+xml,application/xml;q=0.9,image/avif,image/webp,image/apng,*/*;q=0.8,application/signed-exchange;v=b3;q=0.7', 'sec-ch-ua': 'Chromium\";v=\"130\", \"Google Chrome\";v=\"130\", \"Not?A_Brand\";v=\"99', 'sec-ch-ua-mobile':'?0', 'sec-ch-ua-platform': 'Windows', 'sec-fetch-dest': 'document', 'sec-fetch-mode': 'navigate', 'sec-fetch-site': 'same-origin', 'sec-fetch-user': '?1', 'upgrade-insecure-requests': '1'}\n",
    "webpage=requests.get('https://www.ambitionbox.com/list-of-companies?page=1', headers=headers).text"
   ]
  },
  {
   "cell_type": "code",
   "execution_count": 4,
   "metadata": {},
   "outputs": [],
   "source": [
    "soup=BeautifulSoup(webpage, 'html.parser')"
   ]
  },
  {
   "cell_type": "code",
   "execution_count": null,
   "metadata": {},
   "outputs": [],
   "source": [
    "print(soup.prettify())"
   ]
  },
  {
   "cell_type": "code",
   "execution_count": 7,
   "metadata": {},
   "outputs": [
    {
     "data": {
      "text/plain": [
       "[<h1 class=\"companyListing__title\">\n",
       " \t\t\t\t\t\t\tCompanies in India\n",
       " \t\t\t\t\t\t</h1>]"
      ]
     },
     "execution_count": 7,
     "metadata": {},
     "output_type": "execute_result"
    }
   ],
   "source": [
    "soup.find_all('h1')"
   ]
  },
  {
   "cell_type": "code",
   "execution_count": 9,
   "metadata": {},
   "outputs": [
    {
     "data": {
      "text/plain": [
       "'Companies in India'"
      ]
     },
     "execution_count": 9,
     "metadata": {},
     "output_type": "execute_result"
    }
   ],
   "source": [
    "soup.find_all('h1')[0].text.strip()"
   ]
  },
  {
   "cell_type": "markdown",
   "metadata": {},
   "source": [
    "company name"
   ]
  },
  {
   "cell_type": "code",
   "execution_count": 21,
   "metadata": {},
   "outputs": [
    {
     "data": {
      "text/plain": [
       "23"
      ]
     },
     "execution_count": 21,
     "metadata": {},
     "output_type": "execute_result"
    }
   ],
   "source": [
    "len(soup.find_all('h2'))"
   ]
  },
  {
   "cell_type": "code",
   "execution_count": 10,
   "metadata": {},
   "outputs": [
    {
     "name": "stdout",
     "output_type": "stream",
     "text": [
      "TCS\n",
      "Accenture\n",
      "Wipro\n",
      "Cognizant\n",
      "Capgemini\n",
      "HDFC Bank\n",
      "Infosys\n",
      "ICICI Bank\n",
      "HCLTech\n",
      "Tech Mahindra\n",
      "Genpact\n",
      "Teleperformance\n",
      "Concentrix Corporation\n",
      "Axis Bank\n",
      "Amazon\n",
      "Jio\n",
      "iEnergizer\n",
      "Reliance Retail\n",
      "IBM\n",
      "LTIMindtree\n",
      "Companies by Industry\n",
      "Companies by Locations\n",
      "Companies by Type\n"
     ]
    }
   ],
   "source": [
    "for i in soup.find_all('h2'):\n",
    "    print(i.text.strip())"
   ]
  },
  {
   "cell_type": "markdown",
   "metadata": {},
   "source": [
    "ratings"
   ]
  },
  {
   "cell_type": "code",
   "execution_count": 22,
   "metadata": {},
   "outputs": [
    {
     "data": {
      "text/plain": [
       "20"
      ]
     },
     "execution_count": 22,
     "metadata": {},
     "output_type": "execute_result"
    }
   ],
   "source": [
    "len(soup.find_all('div', class_='rating_text'))"
   ]
  },
  {
   "cell_type": "code",
   "execution_count": 18,
   "metadata": {},
   "outputs": [
    {
     "name": "stdout",
     "output_type": "stream",
     "text": [
      "3.7\n",
      "3.8\n",
      "3.7\n",
      "3.7\n",
      "3.7\n",
      "3.9\n",
      "3.6\n",
      "4.0\n",
      "3.5\n",
      "3.5\n",
      "3.8\n",
      "3.9\n",
      "3.8\n",
      "3.8\n",
      "4.1\n",
      "4.0\n",
      "4.6\n",
      "3.9\n",
      "4.0\n",
      "3.8\n"
     ]
    }
   ],
   "source": [
    "for i in soup.find_all('div', class_='rating_text'):\n",
    "    print(i.text.strip())"
   ]
  },
  {
   "cell_type": "code",
   "execution_count": 23,
   "metadata": {},
   "outputs": [
    {
     "data": {
      "text/plain": [
       "[<span class=\"companyCardWrapper__companyRatingCount\">\n",
       " \t\t\t\t\t\t\t\t\t\t\t(91.3k)\n",
       " \t\t\t\t\t\t\t\t\t\t</span>,\n",
       " <span class=\"companyCardWrapper__companyRatingCount\">\n",
       " \t\t\t\t\t\t\t\t\t\t\t(57.5k)\n",
       " \t\t\t\t\t\t\t\t\t\t</span>,\n",
       " <span class=\"companyCardWrapper__companyRatingCount\">\n",
       " \t\t\t\t\t\t\t\t\t\t\t(53.9k)\n",
       " \t\t\t\t\t\t\t\t\t\t</span>,\n",
       " <span class=\"companyCardWrapper__companyRatingCount\">\n",
       " \t\t\t\t\t\t\t\t\t\t\t(51.1k)\n",
       " \t\t\t\t\t\t\t\t\t\t</span>,\n",
       " <span class=\"companyCardWrapper__companyRatingCount\">\n",
       " \t\t\t\t\t\t\t\t\t\t\t(42.5k)\n",
       " \t\t\t\t\t\t\t\t\t\t</span>,\n",
       " <span class=\"companyCardWrapper__companyRatingCount\">\n",
       " \t\t\t\t\t\t\t\t\t\t\t(40.3k)\n",
       " \t\t\t\t\t\t\t\t\t\t</span>,\n",
       " <span class=\"companyCardWrapper__companyRatingCount\">\n",
       " \t\t\t\t\t\t\t\t\t\t\t(40.1k)\n",
       " \t\t\t\t\t\t\t\t\t\t</span>,\n",
       " <span class=\"companyCardWrapper__companyRatingCount\">\n",
       " \t\t\t\t\t\t\t\t\t\t\t(38.7k)\n",
       " \t\t\t\t\t\t\t\t\t\t</span>,\n",
       " <span class=\"companyCardWrapper__companyRatingCount\">\n",
       " \t\t\t\t\t\t\t\t\t\t\t(36.8k)\n",
       " \t\t\t\t\t\t\t\t\t\t</span>,\n",
       " <span class=\"companyCardWrapper__companyRatingCount\">\n",
       " \t\t\t\t\t\t\t\t\t\t\t(35.7k)\n",
       " \t\t\t\t\t\t\t\t\t\t</span>,\n",
       " <span class=\"companyCardWrapper__companyRatingCount\">\n",
       " \t\t\t\t\t\t\t\t\t\t\t(32k)\n",
       " \t\t\t\t\t\t\t\t\t\t</span>,\n",
       " <span class=\"companyCardWrapper__companyRatingCount\">\n",
       " \t\t\t\t\t\t\t\t\t\t\t(30.2k)\n",
       " \t\t\t\t\t\t\t\t\t\t</span>,\n",
       " <span class=\"companyCardWrapper__companyRatingCount\">\n",
       " \t\t\t\t\t\t\t\t\t\t\t(26.8k)\n",
       " \t\t\t\t\t\t\t\t\t\t</span>,\n",
       " <span class=\"companyCardWrapper__companyRatingCount\">\n",
       " \t\t\t\t\t\t\t\t\t\t\t(25.9k)\n",
       " \t\t\t\t\t\t\t\t\t\t</span>,\n",
       " <span class=\"companyCardWrapper__companyRatingCount\">\n",
       " \t\t\t\t\t\t\t\t\t\t\t(25.5k)\n",
       " \t\t\t\t\t\t\t\t\t\t</span>,\n",
       " <span class=\"companyCardWrapper__companyRatingCount\">\n",
       " \t\t\t\t\t\t\t\t\t\t\t(23.5k)\n",
       " \t\t\t\t\t\t\t\t\t\t</span>,\n",
       " <span class=\"companyCardWrapper__companyRatingCount\">\n",
       " \t\t\t\t\t\t\t\t\t\t\t(22.8k)\n",
       " \t\t\t\t\t\t\t\t\t\t</span>,\n",
       " <span class=\"companyCardWrapper__companyRatingCount\">\n",
       " \t\t\t\t\t\t\t\t\t\t\t(22.7k)\n",
       " \t\t\t\t\t\t\t\t\t\t</span>,\n",
       " <span class=\"companyCardWrapper__companyRatingCount\">\n",
       " \t\t\t\t\t\t\t\t\t\t\t(22.3k)\n",
       " \t\t\t\t\t\t\t\t\t\t</span>,\n",
       " <span class=\"companyCardWrapper__companyRatingCount\">\n",
       " \t\t\t\t\t\t\t\t\t\t\t(21.4k)\n",
       " \t\t\t\t\t\t\t\t\t\t</span>]"
      ]
     },
     "execution_count": 23,
     "metadata": {},
     "output_type": "execute_result"
    }
   ],
   "source": [
    "soup.find_all('span', class_='companyCardWrapper__companyRatingCount')"
   ]
  },
  {
   "cell_type": "code",
   "execution_count": 25,
   "metadata": {},
   "outputs": [
    {
     "data": {
      "text/plain": [
       "20"
      ]
     },
     "execution_count": 25,
     "metadata": {},
     "output_type": "execute_result"
    }
   ],
   "source": [
    "company=soup.find_all('div', class_='companyCardWrapper')\n",
    "len(company)"
   ]
  },
  {
   "cell_type": "code",
   "execution_count": 51,
   "metadata": {},
   "outputs": [],
   "source": [
    "name=[]\n",
    "rating=[]\n",
    "reviews=[]\n",
    "ctypes_location=[]\n",
    "salaries=[]\n",
    "interviews=[]\n",
    "jobs=[]\n",
    "benefits=[]\n",
    "\n",
    "\n",
    "\n",
    "for i in company:\n",
    "    name.append(i.find('h2').text.strip())\n",
    "\n",
    "    rating.append(i.find('div', class_='rating_text').text.strip())\n",
    "\n",
    "    ctypes_location.append(i.find('span', class_='companyCardWrapper__interLinking').text.strip())\n",
    "\n",
    "    reviews.append(i.find_all('span', class_='companyCardWrapper__ActionCount')[0].text.strip())\n",
    "\n",
    "    salaries.append(i.find_all('span', class_='companyCardWrapper__ActionCount')[1].text.strip())\n",
    "\n",
    "    interviews.append(i.find_all('span', class_='companyCardWrapper__ActionCount')[2].text.strip())\n",
    "\n",
    "    jobs.append(i.find_all('span', class_='companyCardWrapper__ActionCount')[3].text.strip())\n",
    "\n",
    "    benefits.append(i.find_all('span', class_='companyCardWrapper__ActionCount')[4].text.strip())\n",
    "\n"
   ]
  },
  {
   "cell_type": "code",
   "execution_count": 56,
   "metadata": {},
   "outputs": [
    {
     "data": {
      "text/plain": [
       "['TCS',\n",
       " 'Accenture',\n",
       " 'Wipro',\n",
       " 'Cognizant',\n",
       " 'Capgemini',\n",
       " 'HDFC Bank',\n",
       " 'Infosys',\n",
       " 'ICICI Bank',\n",
       " 'HCLTech',\n",
       " 'Tech Mahindra',\n",
       " 'Genpact',\n",
       " 'Teleperformance',\n",
       " 'Concentrix Corporation',\n",
       " 'Axis Bank',\n",
       " 'Amazon',\n",
       " 'Jio',\n",
       " 'iEnergizer',\n",
       " 'Reliance Retail',\n",
       " 'IBM',\n",
       " 'LTIMindtree']"
      ]
     },
     "execution_count": 56,
     "metadata": {},
     "output_type": "execute_result"
    }
   ],
   "source": [
    "name"
   ]
  },
  {
   "cell_type": "code",
   "execution_count": 61,
   "metadata": {},
   "outputs": [],
   "source": [
    "data={'Name':name, 'Rating':rating, 'Reviews':reviews, 'Type':ctypes_location, 'Salaries':salaries, 'Interviews':interviews, 'Jobs':jobs, 'Benefits':benefits}\n",
    "df=pd.DataFrame(data)"
   ]
  },
  {
   "cell_type": "code",
   "execution_count": 62,
   "metadata": {},
   "outputs": [
    {
     "data": {
      "text/html": [
       "<div>\n",
       "<style scoped>\n",
       "    .dataframe tbody tr th:only-of-type {\n",
       "        vertical-align: middle;\n",
       "    }\n",
       "\n",
       "    .dataframe tbody tr th {\n",
       "        vertical-align: top;\n",
       "    }\n",
       "\n",
       "    .dataframe thead th {\n",
       "        text-align: right;\n",
       "    }\n",
       "</style>\n",
       "<table border=\"1\" class=\"dataframe\">\n",
       "  <thead>\n",
       "    <tr style=\"text-align: right;\">\n",
       "      <th></th>\n",
       "      <th>Name</th>\n",
       "      <th>Rating</th>\n",
       "      <th>Reviews</th>\n",
       "      <th>Type</th>\n",
       "      <th>Salaries</th>\n",
       "      <th>Interviews</th>\n",
       "      <th>Jobs</th>\n",
       "      <th>Benefits</th>\n",
       "    </tr>\n",
       "  </thead>\n",
       "  <tbody>\n",
       "    <tr>\n",
       "      <th>0</th>\n",
       "      <td>TCS</td>\n",
       "      <td>3.7</td>\n",
       "      <td>91.3k</td>\n",
       "      <td>IT Services &amp; Consulting | Bangalore / Bengalu...</td>\n",
       "      <td>8.8L</td>\n",
       "      <td>10.5k</td>\n",
       "      <td>136</td>\n",
       "      <td>11.9k</td>\n",
       "    </tr>\n",
       "    <tr>\n",
       "      <th>1</th>\n",
       "      <td>Accenture</td>\n",
       "      <td>3.8</td>\n",
       "      <td>57.5k</td>\n",
       "      <td>IT Services &amp; Consulting | Bangalore / Bengalu...</td>\n",
       "      <td>5.9L</td>\n",
       "      <td>8.2k</td>\n",
       "      <td>17.5k</td>\n",
       "      <td>7.3k</td>\n",
       "    </tr>\n",
       "    <tr>\n",
       "      <th>2</th>\n",
       "      <td>Wipro</td>\n",
       "      <td>3.7</td>\n",
       "      <td>53.9k</td>\n",
       "      <td>IT Services &amp; Consulting | Bangalore / Bengalu...</td>\n",
       "      <td>4.5L</td>\n",
       "      <td>5.6k</td>\n",
       "      <td>2.5k</td>\n",
       "      <td>5.3k</td>\n",
       "    </tr>\n",
       "    <tr>\n",
       "      <th>3</th>\n",
       "      <td>Cognizant</td>\n",
       "      <td>3.7</td>\n",
       "      <td>51.1k</td>\n",
       "      <td>IT Services &amp; Consulting | Chennai +197 other ...</td>\n",
       "      <td>5.7L</td>\n",
       "      <td>5.6k</td>\n",
       "      <td>323</td>\n",
       "      <td>6.1k</td>\n",
       "    </tr>\n",
       "    <tr>\n",
       "      <th>4</th>\n",
       "      <td>Capgemini</td>\n",
       "      <td>3.7</td>\n",
       "      <td>42.5k</td>\n",
       "      <td>IT Services &amp; Consulting | Bangalore / Bengalu...</td>\n",
       "      <td>4.3L</td>\n",
       "      <td>4.8k</td>\n",
       "      <td>2k</td>\n",
       "      <td>4.2k</td>\n",
       "    </tr>\n",
       "  </tbody>\n",
       "</table>\n",
       "</div>"
      ],
      "text/plain": [
       "        Name Rating Reviews  \\\n",
       "0        TCS    3.7   91.3k   \n",
       "1  Accenture    3.8   57.5k   \n",
       "2      Wipro    3.7   53.9k   \n",
       "3  Cognizant    3.7   51.1k   \n",
       "4  Capgemini    3.7   42.5k   \n",
       "\n",
       "                                                Type Salaries Interviews  \\\n",
       "0  IT Services & Consulting | Bangalore / Bengalu...     8.8L      10.5k   \n",
       "1  IT Services & Consulting | Bangalore / Bengalu...     5.9L       8.2k   \n",
       "2  IT Services & Consulting | Bangalore / Bengalu...     4.5L       5.6k   \n",
       "3  IT Services & Consulting | Chennai +197 other ...     5.7L       5.6k   \n",
       "4  IT Services & Consulting | Bangalore / Bengalu...     4.3L       4.8k   \n",
       "\n",
       "    Jobs Benefits  \n",
       "0    136    11.9k  \n",
       "1  17.5k     7.3k  \n",
       "2   2.5k     5.3k  \n",
       "3    323     6.1k  \n",
       "4     2k     4.2k  "
      ]
     },
     "execution_count": 62,
     "metadata": {},
     "output_type": "execute_result"
    }
   ],
   "source": [
    "df.head()"
   ]
  },
  {
   "cell_type": "markdown",
   "metadata": {},
   "source": [
    "doing this for all the pages"
   ]
  },
  {
   "cell_type": "code",
   "execution_count": 63,
   "metadata": {},
   "outputs": [],
   "source": [
    "dframe=pd.DataFrame()\n",
    "for j in range(1,11):\n",
    "    headers={'User-Agent':'Mozilla/5.0 (Windows NT 6.3; Win 64 ; x64) Apple WeKit /537.36(KHTML , like Gecko) Chrome/80.0.3987.162 Safari/537.36',\"Accept\": 'text/html,application/xhtml+xml,application/xml;q=0.9,image/avif,image/webp,image/apng,*/*;q=0.8,application/signed-exchange;v=b3;q=0.7', 'sec-ch-ua': 'Chromium\";v=\"130\", \"Google Chrome\";v=\"130\", \"Not?A_Brand\";v=\"99', 'sec-ch-ua-mobile':'?0', 'sec-ch-ua-platform': 'Windows', 'sec-fetch-dest': 'document', 'sec-fetch-mode': 'navigate', 'sec-fetch-site': 'same-origin', 'sec-fetch-user': '?1', 'upgrade-insecure-requests': '1'}\n",
    "    webpage=requests.get(f'https://www.ambitionbox.com/list-of-companies?page={j}', headers=headers).text\n",
    "\n",
    "    soup=BeautifulSoup(webpage, 'html.parser')\n",
    "\n",
    "    company=soup.find_all('div', class_='companyCardWrapper')\n",
    "\n",
    "    name=[]\n",
    "    rating=[]\n",
    "    reviews=[]\n",
    "    ctypes_location=[]\n",
    "    salaries=[]\n",
    "    interviews=[]\n",
    "    jobs=[]\n",
    "    benefits=[]\n",
    "\n",
    "\n",
    "\n",
    "    for i in company:\n",
    "        name.append(i.find('h2').text.strip())\n",
    "\n",
    "        rating.append(i.find('div', class_='rating_text').text.strip())\n",
    "\n",
    "        ctypes_location.append(i.find('span', class_='companyCardWrapper__interLinking').text.strip())\n",
    "\n",
    "        reviews.append(i.find_all('span', class_='companyCardWrapper__ActionCount')[0].text.strip())\n",
    "\n",
    "        salaries.append(i.find_all('span', class_='companyCardWrapper__ActionCount')[1].text.strip())\n",
    "\n",
    "        interviews.append(i.find_all('span', class_='companyCardWrapper__ActionCount')[2].text.strip())\n",
    "\n",
    "        jobs.append(i.find_all('span', class_='companyCardWrapper__ActionCount')[3].text.strip())\n",
    "\n",
    "        benefits.append(i.find_all('span', class_='companyCardWrapper__ActionCount')[4].text.strip())\n",
    "\n",
    "    data={'Name':name, 'Rating':rating, 'Reviews':reviews, 'Type':ctypes_location, 'Salaries':salaries, 'Interviews':interviews, 'Jobs':jobs, 'Benefits':benefits}\n",
    "    df=pd.DataFrame(data)\n",
    "    dframe=pd.concat([dframe, df], axis=0)"
   ]
  },
  {
   "cell_type": "code",
   "execution_count": 65,
   "metadata": {},
   "outputs": [
    {
     "data": {
      "text/html": [
       "<div>\n",
       "<style scoped>\n",
       "    .dataframe tbody tr th:only-of-type {\n",
       "        vertical-align: middle;\n",
       "    }\n",
       "\n",
       "    .dataframe tbody tr th {\n",
       "        vertical-align: top;\n",
       "    }\n",
       "\n",
       "    .dataframe thead th {\n",
       "        text-align: right;\n",
       "    }\n",
       "</style>\n",
       "<table border=\"1\" class=\"dataframe\">\n",
       "  <thead>\n",
       "    <tr style=\"text-align: right;\">\n",
       "      <th></th>\n",
       "      <th>Name</th>\n",
       "      <th>Rating</th>\n",
       "      <th>Reviews</th>\n",
       "      <th>Type</th>\n",
       "      <th>Salaries</th>\n",
       "      <th>Interviews</th>\n",
       "      <th>Jobs</th>\n",
       "      <th>Benefits</th>\n",
       "    </tr>\n",
       "  </thead>\n",
       "  <tbody>\n",
       "    <tr>\n",
       "      <th>0</th>\n",
       "      <td>TCS</td>\n",
       "      <td>3.7</td>\n",
       "      <td>91.3k</td>\n",
       "      <td>IT Services &amp; Consulting | Bangalore / Bengalu...</td>\n",
       "      <td>8.8L</td>\n",
       "      <td>10.5k</td>\n",
       "      <td>136</td>\n",
       "      <td>11.9k</td>\n",
       "    </tr>\n",
       "    <tr>\n",
       "      <th>1</th>\n",
       "      <td>Accenture</td>\n",
       "      <td>3.8</td>\n",
       "      <td>57.5k</td>\n",
       "      <td>IT Services &amp; Consulting | Bangalore / Bengalu...</td>\n",
       "      <td>5.9L</td>\n",
       "      <td>8.2k</td>\n",
       "      <td>17.5k</td>\n",
       "      <td>7.3k</td>\n",
       "    </tr>\n",
       "    <tr>\n",
       "      <th>2</th>\n",
       "      <td>Wipro</td>\n",
       "      <td>3.7</td>\n",
       "      <td>53.9k</td>\n",
       "      <td>IT Services &amp; Consulting | Bangalore / Bengalu...</td>\n",
       "      <td>4.5L</td>\n",
       "      <td>5.6k</td>\n",
       "      <td>2.5k</td>\n",
       "      <td>5.3k</td>\n",
       "    </tr>\n",
       "    <tr>\n",
       "      <th>3</th>\n",
       "      <td>Cognizant</td>\n",
       "      <td>3.7</td>\n",
       "      <td>51.1k</td>\n",
       "      <td>IT Services &amp; Consulting | Chennai +197 other ...</td>\n",
       "      <td>5.7L</td>\n",
       "      <td>5.6k</td>\n",
       "      <td>323</td>\n",
       "      <td>6.1k</td>\n",
       "    </tr>\n",
       "    <tr>\n",
       "      <th>4</th>\n",
       "      <td>Capgemini</td>\n",
       "      <td>3.7</td>\n",
       "      <td>42.5k</td>\n",
       "      <td>IT Services &amp; Consulting | Bangalore / Bengalu...</td>\n",
       "      <td>4.3L</td>\n",
       "      <td>4.8k</td>\n",
       "      <td>2k</td>\n",
       "      <td>4.2k</td>\n",
       "    </tr>\n",
       "    <tr>\n",
       "      <th>...</th>\n",
       "      <td>...</td>\n",
       "      <td>...</td>\n",
       "      <td>...</td>\n",
       "      <td>...</td>\n",
       "      <td>...</td>\n",
       "      <td>...</td>\n",
       "      <td>...</td>\n",
       "      <td>...</td>\n",
       "    </tr>\n",
       "    <tr>\n",
       "      <th>15</th>\n",
       "      <td>Bank of America</td>\n",
       "      <td>4.2</td>\n",
       "      <td>3.1k</td>\n",
       "      <td>Banking | Gurgaon / Gurugram +31 other locations</td>\n",
       "      <td>25.3k</td>\n",
       "      <td>237</td>\n",
       "      <td>88</td>\n",
       "      <td>448</td>\n",
       "    </tr>\n",
       "    <tr>\n",
       "      <th>16</th>\n",
       "      <td>Abbott</td>\n",
       "      <td>4.1</td>\n",
       "      <td>3.1k</td>\n",
       "      <td>Pharma | Mumbai +189 other locations</td>\n",
       "      <td>11k</td>\n",
       "      <td>149</td>\n",
       "      <td>296</td>\n",
       "      <td>394</td>\n",
       "    </tr>\n",
       "    <tr>\n",
       "      <th>17</th>\n",
       "      <td>Sodexo</td>\n",
       "      <td>4.1</td>\n",
       "      <td>3.1k</td>\n",
       "      <td>Facility Management Services | Mumbai +145 oth...</td>\n",
       "      <td>9.7k</td>\n",
       "      <td>162</td>\n",
       "      <td>99</td>\n",
       "      <td>391</td>\n",
       "    </tr>\n",
       "    <tr>\n",
       "      <th>18</th>\n",
       "      <td>Jindal Steel and Power</td>\n",
       "      <td>3.9</td>\n",
       "      <td>3.1k</td>\n",
       "      <td>Iron &amp; Steel | Angul +146 other locations</td>\n",
       "      <td>14.2k</td>\n",
       "      <td>315</td>\n",
       "      <td>15</td>\n",
       "      <td>349</td>\n",
       "    </tr>\n",
       "    <tr>\n",
       "      <th>19</th>\n",
       "      <td>Hindalco Industries</td>\n",
       "      <td>4.2</td>\n",
       "      <td>3k</td>\n",
       "      <td>Metals &amp; Mining | Sambalpur +108 other locations</td>\n",
       "      <td>10.7k</td>\n",
       "      <td>217</td>\n",
       "      <td>46</td>\n",
       "      <td>359</td>\n",
       "    </tr>\n",
       "  </tbody>\n",
       "</table>\n",
       "<p>200 rows × 8 columns</p>\n",
       "</div>"
      ],
      "text/plain": [
       "                      Name Rating Reviews  \\\n",
       "0                      TCS    3.7   91.3k   \n",
       "1                Accenture    3.8   57.5k   \n",
       "2                    Wipro    3.7   53.9k   \n",
       "3                Cognizant    3.7   51.1k   \n",
       "4                Capgemini    3.7   42.5k   \n",
       "..                     ...    ...     ...   \n",
       "15         Bank of America    4.2    3.1k   \n",
       "16                  Abbott    4.1    3.1k   \n",
       "17                  Sodexo    4.1    3.1k   \n",
       "18  Jindal Steel and Power    3.9    3.1k   \n",
       "19     Hindalco Industries    4.2      3k   \n",
       "\n",
       "                                                 Type Salaries Interviews  \\\n",
       "0   IT Services & Consulting | Bangalore / Bengalu...     8.8L      10.5k   \n",
       "1   IT Services & Consulting | Bangalore / Bengalu...     5.9L       8.2k   \n",
       "2   IT Services & Consulting | Bangalore / Bengalu...     4.5L       5.6k   \n",
       "3   IT Services & Consulting | Chennai +197 other ...     5.7L       5.6k   \n",
       "4   IT Services & Consulting | Bangalore / Bengalu...     4.3L       4.8k   \n",
       "..                                                ...      ...        ...   \n",
       "15   Banking | Gurgaon / Gurugram +31 other locations    25.3k        237   \n",
       "16               Pharma | Mumbai +189 other locations      11k        149   \n",
       "17  Facility Management Services | Mumbai +145 oth...     9.7k        162   \n",
       "18          Iron & Steel | Angul +146 other locations    14.2k        315   \n",
       "19   Metals & Mining | Sambalpur +108 other locations    10.7k        217   \n",
       "\n",
       "     Jobs Benefits  \n",
       "0     136    11.9k  \n",
       "1   17.5k     7.3k  \n",
       "2    2.5k     5.3k  \n",
       "3     323     6.1k  \n",
       "4      2k     4.2k  \n",
       "..    ...      ...  \n",
       "15     88      448  \n",
       "16    296      394  \n",
       "17     99      391  \n",
       "18     15      349  \n",
       "19     46      359  \n",
       "\n",
       "[200 rows x 8 columns]"
      ]
     },
     "execution_count": 65,
     "metadata": {},
     "output_type": "execute_result"
    }
   ],
   "source": [
    "dframe"
   ]
  },
  {
   "cell_type": "code",
   "execution_count": 66,
   "metadata": {},
   "outputs": [
    {
     "data": {
      "text/plain": [
       "(200, 8)"
      ]
     },
     "execution_count": 66,
     "metadata": {},
     "output_type": "execute_result"
    }
   ],
   "source": [
    "dframe.shape"
   ]
  },
  {
   "cell_type": "code",
   "execution_count": 67,
   "metadata": {},
   "outputs": [],
   "source": [
    "dframe.to_csv('Ambitionbox.csv', index=False)"
   ]
  }
 ],
 "metadata": {
  "kernelspec": {
   "display_name": "Python 3",
   "language": "python",
   "name": "python3"
  },
  "language_info": {
   "codemirror_mode": {
    "name": "ipython",
    "version": 3
   },
   "file_extension": ".py",
   "mimetype": "text/x-python",
   "name": "python",
   "nbconvert_exporter": "python",
   "pygments_lexer": "ipython3",
   "version": "3.12.2"
  }
 },
 "nbformat": 4,
 "nbformat_minor": 2
}
